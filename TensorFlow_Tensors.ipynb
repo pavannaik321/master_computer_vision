{
  "nbformat": 4,
  "nbformat_minor": 0,
  "metadata": {
    "colab": {
      "provenance": [],
      "gpuType": "T4",
      "authorship_tag": "ABX9TyMxlWiMeE1fb8EpKSeIZvw3",
      "include_colab_link": true
    },
    "kernelspec": {
      "name": "python3",
      "display_name": "Python 3"
    },
    "language_info": {
      "name": "python"
    },
    "accelerator": "GPU"
  },
  "cells": [
    {
      "cell_type": "markdown",
      "metadata": {
        "id": "view-in-github",
        "colab_type": "text"
      },
      "source": [
        "<a href=\"https://colab.research.google.com/github/pavannaik321/master_computer_vision/blob/main/TensorFlow_Tensors.ipynb\" target=\"_parent\"><img src=\"https://colab.research.google.com/assets/colab-badge.svg\" alt=\"Open In Colab\"/></a>"
      ]
    },
    {
      "cell_type": "code",
      "execution_count": 1,
      "metadata": {
        "id": "EPIwAa35Eb3s"
      },
      "outputs": [],
      "source": [
        "import tensorflow as tf"
      ]
    },
    {
      "cell_type": "code",
      "source": [
        "tensor_zero_d = tf.constant(4)\n",
        "print(tensor_zero_d)"
      ],
      "metadata": {
        "colab": {
          "base_uri": "https://localhost:8080/"
        },
        "id": "BQWAnuLdFDHn",
        "outputId": "b96fa35d-6ea4-4c3d-f0da-a858fa752fae"
      },
      "execution_count": 2,
      "outputs": [
        {
          "output_type": "stream",
          "name": "stdout",
          "text": [
            "tf.Tensor(4, shape=(), dtype=int32)\n"
          ]
        }
      ]
    },
    {
      "cell_type": "code",
      "source": [
        "tensor_one_d = tf.constant([2,0,-3,8,90])\n",
        "print(tensor_one_d)"
      ],
      "metadata": {
        "colab": {
          "base_uri": "https://localhost:8080/"
        },
        "id": "HqXadJa1FRh9",
        "outputId": "31dd7f2a-3178-4617-9e02-9e1b58f63e08"
      },
      "execution_count": 6,
      "outputs": [
        {
          "output_type": "stream",
          "name": "stdout",
          "text": [
            "tf.Tensor([ 2  0 -3  8 90], shape=(5,), dtype=int32)\n"
          ]
        }
      ]
    },
    {
      "cell_type": "code",
      "source": [
        "tensor_two_d = tf.constant([\n",
        "    [1,2,0],\n",
        "    [3,5,-1],\n",
        "    [1,5,6],\n",
        "    [2,3,8]\n",
        "])\n",
        "print(tensor_two_d)"
      ],
      "metadata": {
        "colab": {
          "base_uri": "https://localhost:8080/"
        },
        "id": "MitUozr0FasR",
        "outputId": "a96449c1-296f-4db4-ce76-b4dff7fbf2ad"
      },
      "execution_count": 8,
      "outputs": [
        {
          "output_type": "stream",
          "name": "stdout",
          "text": [
            "tf.Tensor(\n",
            "[[ 1  2  0]\n",
            " [ 3  5 -1]\n",
            " [ 1  5  6]\n",
            " [ 2  3  8]], shape=(4, 3), dtype=int32)\n"
          ]
        }
      ]
    },
    {
      "cell_type": "code",
      "source": [
        "tensor_three_d = tf.constant([\n",
        "    [\n",
        "        [1,5,6],\n",
        "         [2,3,8]\n",
        "    ],\n",
        "    [\n",
        "        [2,3,4],\n",
        "        [5,6,8]\n",
        "    ],\n",
        "    [\n",
        "        [7,6,7],\n",
        "        [5,4,3]\n",
        "    ]\n",
        "])\n",
        "print(tensor_three_d)"
      ],
      "metadata": {
        "colab": {
          "base_uri": "https://localhost:8080/"
        },
        "id": "Aj5ysQVWF0Vp",
        "outputId": "fd72d012-c769-4b76-883c-315806184bfd"
      },
      "execution_count": 9,
      "outputs": [
        {
          "output_type": "stream",
          "name": "stdout",
          "text": [
            "tf.Tensor(\n",
            "[[[1 5 6]\n",
            "  [2 3 8]]\n",
            "\n",
            " [[2 3 4]\n",
            "  [5 6 8]]\n",
            "\n",
            " [[7 6 7]\n",
            "  [5 4 3]]], shape=(3, 2, 3), dtype=int32)\n"
          ]
        }
      ]
    },
    {
      "cell_type": "code",
      "source": [
        "print(tensor_three_d.shape)\n",
        "print(tensor_one_d.shape)\n",
        "print(tensor_two_d.shape)"
      ],
      "metadata": {
        "colab": {
          "base_uri": "https://localhost:8080/"
        },
        "id": "gn_mf-g6G2Ad",
        "outputId": "1b8f7855-d19e-4460-803b-46b55ecb27cf"
      },
      "execution_count": 11,
      "outputs": [
        {
          "output_type": "stream",
          "name": "stdout",
          "text": [
            "(3, 2, 3)\n",
            "(5,)\n",
            "(4, 3)\n"
          ]
        }
      ]
    },
    {
      "cell_type": "code",
      "source": [
        "print(tensor_three_d.ndim)\n",
        "print(tensor_one_d.ndim)\n",
        "print(tensor_two_d.ndim)"
      ],
      "metadata": {
        "colab": {
          "base_uri": "https://localhost:8080/"
        },
        "id": "Re87-noBHH5d",
        "outputId": "d34c6504-7ff5-4cce-810b-66446bc5f136"
      },
      "execution_count": 12,
      "outputs": [
        {
          "output_type": "stream",
          "name": "stdout",
          "text": [
            "3\n",
            "1\n",
            "2\n"
          ]
        }
      ]
    },
    {
      "cell_type": "code",
      "source": [
        "# Convert numpy array to tensor\n",
        "import numpy as np\n",
        "np_array = np.array([1,2,3,4])\n",
        "print(np_array)"
      ],
      "metadata": {
        "colab": {
          "base_uri": "https://localhost:8080/"
        },
        "id": "bHGIdr4THQ9M",
        "outputId": "cc131f5c-0e63-49ac-97f3-04860f5b1c0a"
      },
      "execution_count": 13,
      "outputs": [
        {
          "output_type": "stream",
          "name": "stdout",
          "text": [
            "[1 2 3 4]\n"
          ]
        }
      ]
    },
    {
      "cell_type": "code",
      "source": [
        "converted_tensor = tf.convert_to_tensor(np_array)\n",
        "print(converted_tensor)"
      ],
      "metadata": {
        "colab": {
          "base_uri": "https://localhost:8080/"
        },
        "id": "rrSzX031K2c3",
        "outputId": "e088d973-daa2-4c6c-eab3-675c91c42b96"
      },
      "execution_count": 14,
      "outputs": [
        {
          "output_type": "stream",
          "name": "stdout",
          "text": [
            "tf.Tensor([1 2 3 4], shape=(4,), dtype=int64)\n"
          ]
        }
      ]
    },
    {
      "cell_type": "code",
      "source": [
        "# Create identity matrix\n",
        "eye_tensor = tf.eye(\n",
        "    num_rows=3,\n",
        "    num_columns=None,\n",
        "    batch_shape=None,\n",
        "    dtype=tf.dtypes.float32,\n",
        "    name=None\n",
        ")\n",
        "print(eye_tensor)"
      ],
      "metadata": {
        "colab": {
          "base_uri": "https://localhost:8080/"
        },
        "id": "76xznUseK7fe",
        "outputId": "a080d97c-82b9-474d-8222-9d3ae8c1b8e9"
      },
      "execution_count": 15,
      "outputs": [
        {
          "output_type": "stream",
          "name": "stdout",
          "text": [
            "tf.Tensor(\n",
            "[[1. 0. 0.]\n",
            " [0. 1. 0.]\n",
            " [0. 0. 1.]], shape=(3, 3), dtype=float32)\n"
          ]
        }
      ]
    },
    {
      "cell_type": "code",
      "source": [],
      "metadata": {
        "id": "FbI3qFV-LOy8"
      },
      "execution_count": null,
      "outputs": []
    }
  ]
}